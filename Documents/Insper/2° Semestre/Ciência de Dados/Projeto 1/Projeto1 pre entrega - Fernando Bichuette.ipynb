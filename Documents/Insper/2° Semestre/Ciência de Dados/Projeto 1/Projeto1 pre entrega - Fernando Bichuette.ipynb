{
 "cells": [
  {
   "cell_type": "markdown",
   "metadata": {},
   "source": [
    "# Projeto 1 - Ciência dos Dados"
   ]
  },
  {
   "cell_type": "markdown",
   "metadata": {},
   "source": [
    "Nome: Fernando Bichuette Assumpção"
   ]
  },
  {
   "cell_type": "markdown",
   "metadata": {},
   "source": [
    "## Pergunta (s) a ser respondida"
   ]
  },
  {
   "cell_type": "markdown",
   "metadata": {},
   "source": [
    "- O Tratado Norte-Americano de Livre Comércio (NAFTA) impactou positivamente ou negativamente as exportações dos membros do grupo? E nos SADC?\n",
    "\n",
    "\n",
    "- Há semelhança entre uma eventual melhora de exportação de produtos pos acordo Nafta em comparação entre com os SADC?\n",
    "\n",
    "\n",
    "- Houve alguma melhora economica no PIB dos paises pós acordo?"
   ]
  },
  {
   "cell_type": "markdown",
   "metadata": {},
   "source": [
    "## Explicação da hipótese e mecanismo"
   ]
  },
  {
   "cell_type": "markdown",
   "metadata": {},
   "source": [
    "O NAFTA por ser uma tratado de livre comercio entre a maior potencia economica do mundo os EUA com o Mexico que possui com mão de obra mais barata e grande reservas de petroleo e o Canada que tem uma mão de obra mais qualificada e recursos minerais e vegetais abundantes e todos os respectivos países possuem divisas territoriais proximas pode ter contribuido para um aumento no número de exportação entre esses países ja que as barreiras de importação diminuiram.\n",
    "\n",
    "\n",
    "O proposito do SADC é proporcionar o crescimento das economias dos países africano membro, juntos eles tem um PIB de 226 bilhões de dólares. Ao contrario do NAFTA, o SADC não tem nenhum membro que possui um alto desenvolvimento industrial sendo assim todos os países possuem uma equiparidade entre si. É  provavel então que não haja, por enquanto, um grande salto  econômico pós acordo.\n",
    "\n",
    "\n",
    "Será analizado as variações do crescimento dos graficos de exportação e PIB ao longo do tempo comparando antes do acordo e pós acordo. Alêm disso será utlizado literatura e pesquisa para comprender qual o significado dos dados obitidos. "
   ]
  },
  {
   "cell_type": "markdown",
   "metadata": {},
   "source": [
    "## Bases de dados usadas"
   ]
  },
  {
   "cell_type": "markdown",
   "metadata": {},
   "source": [
    "Insira links para o site de download das bases de dados. Indique quais as variáveis de interesse vêm de cada uma\n",
    "\n",
    "World Bank: \n",
    "             \n",
    "            Exports of goods and services (% of GDP): https://data.worldbank.org/indicator/NE.EXP.GNFS.ZS\n",
    "            \n",
    "       \n",
    "            GDP growth (annual %): https://data.worldbank.org/indicator/NY.GDP.MKTP.KD.ZG\n"
   ]
  },
  {
   "cell_type": "markdown",
   "metadata": {},
   "source": [
    "## Análise de dados"
   ]
  },
  {
   "cell_type": "markdown",
   "metadata": {},
   "source": [
    "Insira abaixo uma análise de dados tratada para ter maior clareza. \n",
    "\n",
    "Lembre-se de que, além deste arquivo principal, você precisa entregar um ou mais *notebooks* mais brutos com todas as tentativas que fez e que não deram certo .\n",
    "\n",
    "**Não inclua dados ou gráficos sem motivação nem interpretação** - sempre que fizer uma análise, plot ou tablea, diga qual sua intenção. Logo após a apresentação diga qual conclusão específica ou interpretação você tira daquela análise"
   ]
  },
  {
   "cell_type": "code",
   "execution_count": 5,
   "metadata": {},
   "outputs": [],
   "source": [
    "%matplotlib inline\n",
    "import pandas as pd"
   ]
  },
  {
   "cell_type": "code",
   "execution_count": 6,
   "metadata": {},
   "outputs": [],
   "source": [
    "exportacao = pd.read_excel('exports_percent_of_gdp.xlsx')"
   ]
  },
  {
   "cell_type": "code",
   "execution_count": 7,
   "metadata": {},
   "outputs": [],
   "source": [
    "pib = pd.read_excel('gdp_total_yearly_growth.xlsx')"
   ]
  },
  {
   "cell_type": "code",
   "execution_count": null,
   "metadata": {},
   "outputs": [],
   "source": []
  },
  {
   "cell_type": "markdown",
   "metadata": {},
   "source": [
    "## Conclusão"
   ]
  },
  {
   "cell_type": "markdown",
   "metadata": {},
   "source": [
    "Responda à pergunta, argumento da melhor forma possível com base nos dados"
   ]
  },
  {
   "cell_type": "code",
   "execution_count": null,
   "metadata": {},
   "outputs": [],
   "source": []
  }
 ],
 "metadata": {
  "kernelspec": {
   "display_name": "Python 3",
   "language": "python",
   "name": "python3"
  },
  "language_info": {
   "codemirror_mode": {
    "name": "ipython",
    "version": 3
   },
   "file_extension": ".py",
   "mimetype": "text/x-python",
   "name": "python",
   "nbconvert_exporter": "python",
   "pygments_lexer": "ipython3",
   "version": "3.7.1"
  }
 },
 "nbformat": 4,
 "nbformat_minor": 2
}
